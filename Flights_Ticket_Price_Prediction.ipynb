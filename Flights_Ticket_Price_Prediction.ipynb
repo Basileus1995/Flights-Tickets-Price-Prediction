{
 "cells": [
  {
   "cell_type": "code",
   "execution_count": 1,
   "metadata": {},
   "outputs": [],
   "source": [
    "import pandas as pd\n",
    "import numpy as np\n",
    "import seaborn as sns\n",
    "import matplotlib.pyplot as plt\n",
    "import datetime\n",
    "from sklearn.model_selection import train_test_split\n",
    "from sklearn.linear_model import LinearRegression\n",
    "from sklearn.ensemble import RandomForestRegressor, GradientBoostingRegressor\n",
    "from sklearn.preprocessing import LabelEncoder\n",
    "from xgboost import XGBRegressor\n",
    "from mlxtend.regressor import StackingCVRegressor  \n",
    "from sklearn.model_selection import cross_val_score"
   ]
  },
  {
   "cell_type": "code",
   "execution_count": 2,
   "metadata": {},
   "outputs": [
    {
     "data": {
      "text/html": [
       "<div>\n",
       "<style scoped>\n",
       "    .dataframe tbody tr th:only-of-type {\n",
       "        vertical-align: middle;\n",
       "    }\n",
       "\n",
       "    .dataframe tbody tr th {\n",
       "        vertical-align: top;\n",
       "    }\n",
       "\n",
       "    .dataframe thead th {\n",
       "        text-align: right;\n",
       "    }\n",
       "</style>\n",
       "<table border=\"1\" class=\"dataframe\">\n",
       "  <thead>\n",
       "    <tr style=\"text-align: right;\">\n",
       "      <th></th>\n",
       "      <th>Airline</th>\n",
       "      <th>Date_of_Journey</th>\n",
       "      <th>Source</th>\n",
       "      <th>Destination</th>\n",
       "      <th>Route</th>\n",
       "      <th>Dep_Time</th>\n",
       "      <th>Arrival_Time</th>\n",
       "      <th>Duration</th>\n",
       "      <th>Total_Stops</th>\n",
       "      <th>Additional_Info</th>\n",
       "      <th>Price</th>\n",
       "    </tr>\n",
       "  </thead>\n",
       "  <tbody>\n",
       "    <tr>\n",
       "      <th>0</th>\n",
       "      <td>IndiGo</td>\n",
       "      <td>24/03/2019</td>\n",
       "      <td>Banglore</td>\n",
       "      <td>New Delhi</td>\n",
       "      <td>BLR → DEL</td>\n",
       "      <td>22:20</td>\n",
       "      <td>01:10 22 Mar</td>\n",
       "      <td>2h 50m</td>\n",
       "      <td>non-stop</td>\n",
       "      <td>No info</td>\n",
       "      <td>3897</td>\n",
       "    </tr>\n",
       "    <tr>\n",
       "      <th>1</th>\n",
       "      <td>Air India</td>\n",
       "      <td>1/05/2019</td>\n",
       "      <td>Kolkata</td>\n",
       "      <td>Banglore</td>\n",
       "      <td>CCU → IXR → BBI → BLR</td>\n",
       "      <td>05:50</td>\n",
       "      <td>13:15</td>\n",
       "      <td>7h 25m</td>\n",
       "      <td>2 stops</td>\n",
       "      <td>No info</td>\n",
       "      <td>7662</td>\n",
       "    </tr>\n",
       "    <tr>\n",
       "      <th>2</th>\n",
       "      <td>Jet Airways</td>\n",
       "      <td>9/06/2019</td>\n",
       "      <td>Delhi</td>\n",
       "      <td>Cochin</td>\n",
       "      <td>DEL → LKO → BOM → COK</td>\n",
       "      <td>09:25</td>\n",
       "      <td>04:25 10 Jun</td>\n",
       "      <td>19h</td>\n",
       "      <td>2 stops</td>\n",
       "      <td>No info</td>\n",
       "      <td>13882</td>\n",
       "    </tr>\n",
       "    <tr>\n",
       "      <th>3</th>\n",
       "      <td>IndiGo</td>\n",
       "      <td>12/05/2019</td>\n",
       "      <td>Kolkata</td>\n",
       "      <td>Banglore</td>\n",
       "      <td>CCU → NAG → BLR</td>\n",
       "      <td>18:05</td>\n",
       "      <td>23:30</td>\n",
       "      <td>5h 25m</td>\n",
       "      <td>1 stop</td>\n",
       "      <td>No info</td>\n",
       "      <td>6218</td>\n",
       "    </tr>\n",
       "    <tr>\n",
       "      <th>4</th>\n",
       "      <td>IndiGo</td>\n",
       "      <td>01/03/2019</td>\n",
       "      <td>Banglore</td>\n",
       "      <td>New Delhi</td>\n",
       "      <td>BLR → NAG → DEL</td>\n",
       "      <td>16:50</td>\n",
       "      <td>21:35</td>\n",
       "      <td>4h 45m</td>\n",
       "      <td>1 stop</td>\n",
       "      <td>No info</td>\n",
       "      <td>13302</td>\n",
       "    </tr>\n",
       "  </tbody>\n",
       "</table>\n",
       "</div>"
      ],
      "text/plain": [
       "       Airline Date_of_Journey    Source Destination                  Route  \\\n",
       "0       IndiGo      24/03/2019  Banglore   New Delhi              BLR → DEL   \n",
       "1    Air India       1/05/2019   Kolkata    Banglore  CCU → IXR → BBI → BLR   \n",
       "2  Jet Airways       9/06/2019     Delhi      Cochin  DEL → LKO → BOM → COK   \n",
       "3       IndiGo      12/05/2019   Kolkata    Banglore        CCU → NAG → BLR   \n",
       "4       IndiGo      01/03/2019  Banglore   New Delhi        BLR → NAG → DEL   \n",
       "\n",
       "  Dep_Time  Arrival_Time Duration Total_Stops Additional_Info  Price  \n",
       "0    22:20  01:10 22 Mar   2h 50m    non-stop         No info   3897  \n",
       "1    05:50         13:15   7h 25m     2 stops         No info   7662  \n",
       "2    09:25  04:25 10 Jun      19h     2 stops         No info  13882  \n",
       "3    18:05         23:30   5h 25m      1 stop         No info   6218  \n",
       "4    16:50         21:35   4h 45m      1 stop         No info  13302  "
      ]
     },
     "execution_count": 2,
     "metadata": {},
     "output_type": "execute_result"
    }
   ],
   "source": [
    "df = pd.read_excel('Data_Train.xlsx')\n",
    "df.head()"
   ]
  },
  {
   "cell_type": "code",
   "execution_count": 3,
   "metadata": {},
   "outputs": [
    {
     "data": {
      "text/plain": [
       "(10683, 11)"
      ]
     },
     "execution_count": 3,
     "metadata": {},
     "output_type": "execute_result"
    }
   ],
   "source": [
    "df.shape"
   ]
  },
  {
   "cell_type": "code",
   "execution_count": 4,
   "metadata": {},
   "outputs": [
    {
     "data": {
      "text/plain": [
       "Airline            object\n",
       "Date_of_Journey    object\n",
       "Source             object\n",
       "Destination        object\n",
       "Route              object\n",
       "Dep_Time           object\n",
       "Arrival_Time       object\n",
       "Duration           object\n",
       "Total_Stops        object\n",
       "Additional_Info    object\n",
       "Price               int64\n",
       "dtype: object"
      ]
     },
     "execution_count": 4,
     "metadata": {},
     "output_type": "execute_result"
    }
   ],
   "source": [
    "df.dtypes"
   ]
  },
  {
   "cell_type": "code",
   "execution_count": 5,
   "metadata": {},
   "outputs": [
    {
     "data": {
      "text/plain": [
       "Airline            0\n",
       "Date_of_Journey    0\n",
       "Source             0\n",
       "Destination        0\n",
       "Route              1\n",
       "Dep_Time           0\n",
       "Arrival_Time       0\n",
       "Duration           0\n",
       "Total_Stops        1\n",
       "Additional_Info    0\n",
       "Price              0\n",
       "dtype: int64"
      ]
     },
     "execution_count": 5,
     "metadata": {},
     "output_type": "execute_result"
    }
   ],
   "source": [
    "df.isna().sum()"
   ]
  },
  {
   "cell_type": "code",
   "execution_count": 6,
   "metadata": {},
   "outputs": [],
   "source": [
    "# Dropping the row which accounts for the 2 NAs\n",
    "df = df.dropna(axis = 0)"
   ]
  },
  {
   "cell_type": "markdown",
   "metadata": {},
   "source": [
    "#### Handling similar columns"
   ]
  },
  {
   "cell_type": "code",
   "execution_count": 7,
   "metadata": {},
   "outputs": [],
   "source": [
    "# Building consistency in the cities comprised in Source and Destination\n",
    "df['Destination'] = df['Destination'].str.replace('New ','')\n",
    "df['Destination'] = df['Destination'].str.replace(' ','')\n",
    "df['Destination'] = df['Destination'].str.replace('Delhi','New Delhi')\n",
    "df['Source'] = df['Source'].str.replace('Delhi','New Delhi')"
   ]
  },
  {
   "cell_type": "code",
   "execution_count": 8,
   "metadata": {},
   "outputs": [
    {
     "name": "stdout",
     "output_type": "stream",
     "text": [
      "['Banglore' 'Kolkata' 'New Delhi' 'Chennai' 'Mumbai']\n",
      "['New Delhi' 'Banglore' 'Cochin' 'Kolkata' 'Hyderabad']\n"
     ]
    }
   ],
   "source": [
    "# Checking the new status quo with 'Source' and 'Destination'\n",
    "print(df['Source'].unique())\n",
    "print(df['Destination'].unique())"
   ]
  },
  {
   "cell_type": "code",
   "execution_count": 9,
   "metadata": {},
   "outputs": [],
   "source": [
    "# Encoding the cities\n",
    "df['Source'] = df['Source'].replace({'Banglore': 0, 'Kolkata': 1, 'New Delhi': 2, 'Chennai': 3, 'Mumbai': 4})\n",
    "df['Destination'] = df['Destination'].replace({'Banglore': 0, 'Kolkata': 1, 'New Delhi': 2, 'Cochin': 5, 'Hyderabad': 6})"
   ]
  },
  {
   "cell_type": "markdown",
   "metadata": {},
   "source": [
    "#### Handling datetime columns"
   ]
  },
  {
   "cell_type": "code",
   "execution_count": 10,
   "metadata": {},
   "outputs": [],
   "source": [
    "# Changing to appropriate data types\n",
    "df['Date_of_Journey'] = df['Date_of_Journey'].astype('datetime64')\n",
    "df['Dep_Time'] = df['Dep_Time'].astype('datetime64[ns]')\n",
    "df['Arrival_Time'] = df['Arrival_Time'].astype('datetime64[ns]')"
   ]
  },
  {
   "cell_type": "code",
   "execution_count": 11,
   "metadata": {},
   "outputs": [],
   "source": [
    "# Extracting the time of departure of the flights\n",
    "df['Dep_Time'] =  df['Dep_Time'].apply(lambda x: x.time())\n",
    "# Extracting Arrival Time and Date\n",
    "df['Date_of_Arrival'] = df['Arrival_Time'].apply(lambda x: x.date())\n",
    "df['Arrival_Time'] = df['Arrival_Time'].apply(lambda x: x.time())"
   ]
  },
  {
   "cell_type": "code",
   "execution_count": 12,
   "metadata": {},
   "outputs": [],
   "source": [
    "# Converting Duration from hours and minutes format to integer with all entries as minutes\n",
    "def extract_time(x):\n",
    "    if 'h' in x and 'm' not in x:\n",
    "        h = x.strip('h')\n",
    "        h = h.strip(' ')\n",
    "        x = (int(h)*60)\n",
    "    elif 'm' in x and 'h' not in x:\n",
    "        m = x.strip('m')\n",
    "        m = m.strip(' ')\n",
    "        x = int(m)\n",
    "    elif 'h' and 'm' in x:\n",
    "        h , m = x.split('h')\n",
    "        h = h.strip(' ')\n",
    "        m = m.strip(' ')\n",
    "        m = m.strip('m')\n",
    "        x = (int(h)*60) + int(m)\n",
    "    return x"
   ]
  },
  {
   "cell_type": "code",
   "execution_count": 13,
   "metadata": {},
   "outputs": [],
   "source": [
    "df['Duration'] = df['Duration'].apply(extract_time)"
   ]
  },
  {
   "cell_type": "code",
   "execution_count": 14,
   "metadata": {},
   "outputs": [],
   "source": [
    "# Encoding the layovers\n",
    "df['Total_Stops'] = df['Total_Stops'].replace({'non-stop': 0, '1 stop': 1, '2 stops': 2, '3 stops': 3, '4 stops': 4})"
   ]
  },
  {
   "cell_type": "code",
   "execution_count": 15,
   "metadata": {},
   "outputs": [],
   "source": [
    "# Encoding the time to categories\n",
    "def time_category(x):\n",
    "    if x.hour in range(0,6):\n",
    "        return('early morning')\n",
    "    elif x.hour in range(6,12):\n",
    "        return('morning')\n",
    "    elif x.hour in range(12,17):\n",
    "        return('afternoon')\n",
    "    elif x.hour in range(17,24):\n",
    "        return('evening')"
   ]
  },
  {
   "cell_type": "code",
   "execution_count": 16,
   "metadata": {},
   "outputs": [],
   "source": [
    "# Encoding the Departure Time\n",
    "df['Dep_Time'] = df['Dep_Time'].apply(time_category)\n",
    "# Encoding the Arrival Time\n",
    "df['Arrival_Time'] = df['Arrival_Time'].apply(time_category)"
   ]
  },
  {
   "cell_type": "code",
   "execution_count": 17,
   "metadata": {},
   "outputs": [],
   "source": [
    "df['Additional_Info'].replace({'No Info': 'No info'}, inplace = True)\n",
    "df['Dep_Date_Month'] = df['Date_of_Journey'].apply(lambda x: x.month)\n",
    "df['Arr_Date_Month'] = df['Date_of_Arrival'].apply(lambda x: x.month)\n",
    "df['Dep_Date_Day'] = df['Date_of_Journey'].apply(lambda x: x.day)\n",
    "df['Arr_Date_Day'] = df['Date_of_Arrival'].apply(lambda x: x.day)\n",
    "df['Date_of_Journey_Weekday'] = df['Date_of_Journey'].apply(lambda x: x.weekday())\n",
    "df['Date_of_Arrival_Weekday'] = df['Date_of_Arrival'].apply(lambda x: x.weekday())"
   ]
  },
  {
   "cell_type": "markdown",
   "metadata": {},
   "source": [
    "#### Introducting new features to enhance the machine's perception"
   ]
  },
  {
   "cell_type": "code",
   "execution_count": 18,
   "metadata": {},
   "outputs": [],
   "source": [
    "# Creating a column for the Class of travel\n",
    "r = df.Airline.str.split(' ',expand=True).get(2)\n",
    "d = {None:'Economy','Premium': 'Premium Economy','economy':'Premium Economy','Business':'Business' }\n",
    "r = r.map(d)\n",
    "df['Class']=r\n",
    "df.Class=df.Class.astype('category')"
   ]
  },
  {
   "cell_type": "code",
   "execution_count": 19,
   "metadata": {},
   "outputs": [],
   "source": [
    "start_date = datetime.date(2019, 1, 3) # Beginning of the month of March as the booking day\n",
    "def extract_duration_before_journey(timestamp):\n",
    "    delta = timestamp.date() - start_date\n",
    "    return delta.days"
   ]
  },
  {
   "cell_type": "code",
   "execution_count": 20,
   "metadata": {},
   "outputs": [],
   "source": [
    "df['Booking_Date'] = df['Date_of_Journey'].apply(extract_duration_before_journey)"
   ]
  },
  {
   "cell_type": "code",
   "execution_count": 21,
   "metadata": {},
   "outputs": [],
   "source": [
    "# Encoding Categorical Columns\n",
    "codex = LabelEncoder()\n",
    "df['Class'] = codex.fit_transform(df['Class'])\n",
    "df['Airline'] = codex.fit_transform(df['Airline'])\n",
    "df['Additional_Info'] = codex.fit_transform(df['Additional_Info'])\n",
    "df['Dep_Time'] = codex.fit_transform(df['Dep_Time'])\n",
    "df['Arrival_Time'] = codex.fit_transform(df['Arrival_Time'])\n",
    "df['Route'] = codex.fit_transform(df['Route'])"
   ]
  },
  {
   "cell_type": "code",
   "execution_count": 22,
   "metadata": {},
   "outputs": [],
   "source": [
    "# Normalizing the price variable\n",
    "df['Price'] = np.log(df['Price'])"
   ]
  },
  {
   "cell_type": "code",
   "execution_count": 23,
   "metadata": {},
   "outputs": [
    {
     "data": {
      "text/html": [
       "<div>\n",
       "<style scoped>\n",
       "    .dataframe tbody tr th:only-of-type {\n",
       "        vertical-align: middle;\n",
       "    }\n",
       "\n",
       "    .dataframe tbody tr th {\n",
       "        vertical-align: top;\n",
       "    }\n",
       "\n",
       "    .dataframe thead th {\n",
       "        text-align: right;\n",
       "    }\n",
       "</style>\n",
       "<table border=\"1\" class=\"dataframe\">\n",
       "  <thead>\n",
       "    <tr style=\"text-align: right;\">\n",
       "      <th></th>\n",
       "      <th>Airline</th>\n",
       "      <th>Date_of_Journey</th>\n",
       "      <th>Source</th>\n",
       "      <th>Destination</th>\n",
       "      <th>Route</th>\n",
       "      <th>Dep_Time</th>\n",
       "      <th>Arrival_Time</th>\n",
       "      <th>Duration</th>\n",
       "      <th>Total_Stops</th>\n",
       "      <th>Additional_Info</th>\n",
       "      <th>Price</th>\n",
       "      <th>Date_of_Arrival</th>\n",
       "      <th>Dep_Date_Month</th>\n",
       "      <th>Arr_Date_Month</th>\n",
       "      <th>Dep_Date_Day</th>\n",
       "      <th>Arr_Date_Day</th>\n",
       "      <th>Date_of_Journey_Weekday</th>\n",
       "      <th>Date_of_Arrival_Weekday</th>\n",
       "      <th>Class</th>\n",
       "      <th>Booking_Date</th>\n",
       "    </tr>\n",
       "  </thead>\n",
       "  <tbody>\n",
       "    <tr>\n",
       "      <th>0</th>\n",
       "      <td>3</td>\n",
       "      <td>2019-03-24</td>\n",
       "      <td>0</td>\n",
       "      <td>2</td>\n",
       "      <td>18</td>\n",
       "      <td>2</td>\n",
       "      <td>1</td>\n",
       "      <td>170</td>\n",
       "      <td>0</td>\n",
       "      <td>7</td>\n",
       "      <td>8.267962</td>\n",
       "      <td>2019-03-22</td>\n",
       "      <td>3</td>\n",
       "      <td>3</td>\n",
       "      <td>24</td>\n",
       "      <td>22</td>\n",
       "      <td>6</td>\n",
       "      <td>4</td>\n",
       "      <td>1</td>\n",
       "      <td>80</td>\n",
       "    </tr>\n",
       "    <tr>\n",
       "      <th>1</th>\n",
       "      <td>1</td>\n",
       "      <td>2019-01-05</td>\n",
       "      <td>1</td>\n",
       "      <td>0</td>\n",
       "      <td>84</td>\n",
       "      <td>1</td>\n",
       "      <td>0</td>\n",
       "      <td>445</td>\n",
       "      <td>2</td>\n",
       "      <td>7</td>\n",
       "      <td>8.944028</td>\n",
       "      <td>2019-07-23</td>\n",
       "      <td>1</td>\n",
       "      <td>7</td>\n",
       "      <td>5</td>\n",
       "      <td>23</td>\n",
       "      <td>5</td>\n",
       "      <td>1</td>\n",
       "      <td>1</td>\n",
       "      <td>2</td>\n",
       "    </tr>\n",
       "    <tr>\n",
       "      <th>2</th>\n",
       "      <td>4</td>\n",
       "      <td>2019-09-06</td>\n",
       "      <td>2</td>\n",
       "      <td>5</td>\n",
       "      <td>118</td>\n",
       "      <td>3</td>\n",
       "      <td>1</td>\n",
       "      <td>1140</td>\n",
       "      <td>2</td>\n",
       "      <td>7</td>\n",
       "      <td>9.538348</td>\n",
       "      <td>2019-06-10</td>\n",
       "      <td>9</td>\n",
       "      <td>6</td>\n",
       "      <td>6</td>\n",
       "      <td>10</td>\n",
       "      <td>4</td>\n",
       "      <td>0</td>\n",
       "      <td>1</td>\n",
       "      <td>246</td>\n",
       "    </tr>\n",
       "    <tr>\n",
       "      <th>3</th>\n",
       "      <td>3</td>\n",
       "      <td>2019-12-05</td>\n",
       "      <td>1</td>\n",
       "      <td>0</td>\n",
       "      <td>91</td>\n",
       "      <td>2</td>\n",
       "      <td>2</td>\n",
       "      <td>325</td>\n",
       "      <td>1</td>\n",
       "      <td>7</td>\n",
       "      <td>8.735204</td>\n",
       "      <td>2019-07-23</td>\n",
       "      <td>12</td>\n",
       "      <td>7</td>\n",
       "      <td>5</td>\n",
       "      <td>23</td>\n",
       "      <td>3</td>\n",
       "      <td>1</td>\n",
       "      <td>1</td>\n",
       "      <td>336</td>\n",
       "    </tr>\n",
       "    <tr>\n",
       "      <th>4</th>\n",
       "      <td>3</td>\n",
       "      <td>2019-01-03</td>\n",
       "      <td>0</td>\n",
       "      <td>2</td>\n",
       "      <td>29</td>\n",
       "      <td>0</td>\n",
       "      <td>2</td>\n",
       "      <td>285</td>\n",
       "      <td>1</td>\n",
       "      <td>7</td>\n",
       "      <td>9.495670</td>\n",
       "      <td>2019-07-23</td>\n",
       "      <td>1</td>\n",
       "      <td>7</td>\n",
       "      <td>3</td>\n",
       "      <td>23</td>\n",
       "      <td>3</td>\n",
       "      <td>1</td>\n",
       "      <td>1</td>\n",
       "      <td>0</td>\n",
       "    </tr>\n",
       "    <tr>\n",
       "      <th>5</th>\n",
       "      <td>8</td>\n",
       "      <td>2019-06-24</td>\n",
       "      <td>1</td>\n",
       "      <td>0</td>\n",
       "      <td>64</td>\n",
       "      <td>3</td>\n",
       "      <td>3</td>\n",
       "      <td>145</td>\n",
       "      <td>0</td>\n",
       "      <td>7</td>\n",
       "      <td>8.261785</td>\n",
       "      <td>2019-07-23</td>\n",
       "      <td>6</td>\n",
       "      <td>7</td>\n",
       "      <td>24</td>\n",
       "      <td>23</td>\n",
       "      <td>0</td>\n",
       "      <td>1</td>\n",
       "      <td>1</td>\n",
       "      <td>172</td>\n",
       "    </tr>\n",
       "    <tr>\n",
       "      <th>6</th>\n",
       "      <td>4</td>\n",
       "      <td>2019-12-03</td>\n",
       "      <td>0</td>\n",
       "      <td>2</td>\n",
       "      <td>5</td>\n",
       "      <td>2</td>\n",
       "      <td>3</td>\n",
       "      <td>930</td>\n",
       "      <td>1</td>\n",
       "      <td>5</td>\n",
       "      <td>9.313529</td>\n",
       "      <td>2019-03-13</td>\n",
       "      <td>12</td>\n",
       "      <td>3</td>\n",
       "      <td>3</td>\n",
       "      <td>13</td>\n",
       "      <td>1</td>\n",
       "      <td>2</td>\n",
       "      <td>1</td>\n",
       "      <td>334</td>\n",
       "    </tr>\n",
       "    <tr>\n",
       "      <th>7</th>\n",
       "      <td>4</td>\n",
       "      <td>2019-01-03</td>\n",
       "      <td>0</td>\n",
       "      <td>2</td>\n",
       "      <td>5</td>\n",
       "      <td>3</td>\n",
       "      <td>1</td>\n",
       "      <td>1265</td>\n",
       "      <td>1</td>\n",
       "      <td>7</td>\n",
       "      <td>10.010996</td>\n",
       "      <td>2019-03-02</td>\n",
       "      <td>1</td>\n",
       "      <td>3</td>\n",
       "      <td>3</td>\n",
       "      <td>2</td>\n",
       "      <td>3</td>\n",
       "      <td>5</td>\n",
       "      <td>1</td>\n",
       "      <td>0</td>\n",
       "    </tr>\n",
       "    <tr>\n",
       "      <th>8</th>\n",
       "      <td>4</td>\n",
       "      <td>2019-12-03</td>\n",
       "      <td>0</td>\n",
       "      <td>2</td>\n",
       "      <td>5</td>\n",
       "      <td>3</td>\n",
       "      <td>3</td>\n",
       "      <td>1530</td>\n",
       "      <td>1</td>\n",
       "      <td>5</td>\n",
       "      <td>9.313529</td>\n",
       "      <td>2019-03-13</td>\n",
       "      <td>12</td>\n",
       "      <td>3</td>\n",
       "      <td>3</td>\n",
       "      <td>13</td>\n",
       "      <td>1</td>\n",
       "      <td>2</td>\n",
       "      <td>1</td>\n",
       "      <td>334</td>\n",
       "    </tr>\n",
       "    <tr>\n",
       "      <th>9</th>\n",
       "      <td>6</td>\n",
       "      <td>2019-05-27</td>\n",
       "      <td>2</td>\n",
       "      <td>5</td>\n",
       "      <td>104</td>\n",
       "      <td>3</td>\n",
       "      <td>2</td>\n",
       "      <td>470</td>\n",
       "      <td>1</td>\n",
       "      <td>7</td>\n",
       "      <td>9.062420</td>\n",
       "      <td>2019-07-23</td>\n",
       "      <td>5</td>\n",
       "      <td>7</td>\n",
       "      <td>27</td>\n",
       "      <td>23</td>\n",
       "      <td>0</td>\n",
       "      <td>1</td>\n",
       "      <td>1</td>\n",
       "      <td>144</td>\n",
       "    </tr>\n",
       "  </tbody>\n",
       "</table>\n",
       "</div>"
      ],
      "text/plain": [
       "   Airline Date_of_Journey  Source  Destination  Route  Dep_Time  \\\n",
       "0        3      2019-03-24       0            2     18         2   \n",
       "1        1      2019-01-05       1            0     84         1   \n",
       "2        4      2019-09-06       2            5    118         3   \n",
       "3        3      2019-12-05       1            0     91         2   \n",
       "4        3      2019-01-03       0            2     29         0   \n",
       "5        8      2019-06-24       1            0     64         3   \n",
       "6        4      2019-12-03       0            2      5         2   \n",
       "7        4      2019-01-03       0            2      5         3   \n",
       "8        4      2019-12-03       0            2      5         3   \n",
       "9        6      2019-05-27       2            5    104         3   \n",
       "\n",
       "   Arrival_Time  Duration  Total_Stops  Additional_Info      Price  \\\n",
       "0             1       170            0                7   8.267962   \n",
       "1             0       445            2                7   8.944028   \n",
       "2             1      1140            2                7   9.538348   \n",
       "3             2       325            1                7   8.735204   \n",
       "4             2       285            1                7   9.495670   \n",
       "5             3       145            0                7   8.261785   \n",
       "6             3       930            1                5   9.313529   \n",
       "7             1      1265            1                7  10.010996   \n",
       "8             3      1530            1                5   9.313529   \n",
       "9             2       470            1                7   9.062420   \n",
       "\n",
       "  Date_of_Arrival  Dep_Date_Month  Arr_Date_Month  Dep_Date_Day  Arr_Date_Day  \\\n",
       "0      2019-03-22               3               3            24            22   \n",
       "1      2019-07-23               1               7             5            23   \n",
       "2      2019-06-10               9               6             6            10   \n",
       "3      2019-07-23              12               7             5            23   \n",
       "4      2019-07-23               1               7             3            23   \n",
       "5      2019-07-23               6               7            24            23   \n",
       "6      2019-03-13              12               3             3            13   \n",
       "7      2019-03-02               1               3             3             2   \n",
       "8      2019-03-13              12               3             3            13   \n",
       "9      2019-07-23               5               7            27            23   \n",
       "\n",
       "   Date_of_Journey_Weekday  Date_of_Arrival_Weekday  Class  Booking_Date  \n",
       "0                        6                        4      1            80  \n",
       "1                        5                        1      1             2  \n",
       "2                        4                        0      1           246  \n",
       "3                        3                        1      1           336  \n",
       "4                        3                        1      1             0  \n",
       "5                        0                        1      1           172  \n",
       "6                        1                        2      1           334  \n",
       "7                        3                        5      1             0  \n",
       "8                        1                        2      1           334  \n",
       "9                        0                        1      1           144  "
      ]
     },
     "execution_count": 23,
     "metadata": {},
     "output_type": "execute_result"
    }
   ],
   "source": [
    "df.head(10)"
   ]
  },
  {
   "cell_type": "markdown",
   "metadata": {},
   "source": [
    "#### Model Design"
   ]
  },
  {
   "cell_type": "code",
   "execution_count": 24,
   "metadata": {},
   "outputs": [],
   "source": [
    "df = df.drop(['Date_of_Journey', 'Date_of_Arrival'], axis = 1) # After their sub division, the columns are rendered obsolete\n",
    "x = df.columns.tolist()\n",
    "y = x.pop(x.index('Price'))\n",
    "x.append(y)"
   ]
  },
  {
   "cell_type": "code",
   "execution_count": 25,
   "metadata": {},
   "outputs": [],
   "source": [
    "# Rearrangement of the columns\n",
    "train = df[x]"
   ]
  },
  {
   "cell_type": "code",
   "execution_count": 26,
   "metadata": {},
   "outputs": [],
   "source": [
    "X = train.iloc[:,:-1]\n",
    "y = train['Price']\n",
    "X = np.asarray(X)\n",
    "y = np.asarray(y)"
   ]
  },
  {
   "cell_type": "code",
   "execution_count": 27,
   "metadata": {},
   "outputs": [],
   "source": [
    "X_train, X_eval, y_train, y_eval = train_test_split(X,y, test_size = 0.2, shuffle = True, random_state = 50)"
   ]
  },
  {
   "cell_type": "code",
   "execution_count": 30,
   "metadata": {},
   "outputs": [
    {
     "data": {
      "text/plain": [
       "0.9391480807618675"
      ]
     },
     "execution_count": 30,
     "metadata": {},
     "output_type": "execute_result"
    }
   ],
   "source": [
    "xgb = XGBRegressor(n_estimators = 3000, learning_rate = 0.1, gamma = 0.2, subsample = 0.8,\n",
    "                    colsample_bytree = 0.8, max_depth = 25, eta = 0.1, seed = 10,\n",
    "                    reg_alpha = 1e-3, objective = 'reg:squarederror', random_state = 50,\n",
    "                    scale_pos_weight = 1, min_child_weight = 1, eval_metric = 'rmse')\n",
    "\n",
    "xgb.fit(X_train,y_train)\n",
    "xgb.score(X_eval,y_eval)"
   ]
  },
  {
   "cell_type": "code",
   "execution_count": 31,
   "metadata": {
    "scrolled": false
   },
   "outputs": [
    {
     "data": {
      "text/plain": [
       "XGBRegressor(base_score=0.5, booster='gbtree', colsample_bylevel=1,\n",
       "       colsample_bynode=1, colsample_bytree=0.8, eta=0.1,\n",
       "       eval_metric='rmse', gamma=0.2, importance_type='gain',\n",
       "       learning_rate=0.1, max_delta_step=0, max_depth=25,\n",
       "       min_child_weight=1, missing=None, n_estimators=3000, n_jobs=1,\n",
       "       nthread=None, objective='reg:squarederror', random_state=50,\n",
       "       reg_alpha=0.001, reg_lambda=1, scale_pos_weight=1, seed=10,\n",
       "       silent=None, subsample=0.8, verbosity=1)"
      ]
     },
     "execution_count": 31,
     "metadata": {},
     "output_type": "execute_result"
    }
   ],
   "source": [
    "# Fitting the model on whole data\n",
    "xgb = XGBRegressor(n_estimators = 3000, learning_rate = 0.1, gamma = 0.2, subsample = 0.8,\n",
    "                    colsample_bytree = 0.8, max_depth = 25, eta = 0.1, seed = 10,\n",
    "                    reg_alpha = 1e-3, objective = 'reg:squarederror', random_state = 50,\n",
    "                    scale_pos_weight = 1, min_child_weight = 1, eval_metric = 'rmse')\n",
    "xgb.fit(X,y)"
   ]
  },
  {
   "cell_type": "markdown",
   "metadata": {},
   "source": [
    "#### Prediction on the test data"
   ]
  },
  {
   "cell_type": "code",
   "execution_count": 33,
   "metadata": {},
   "outputs": [],
   "source": [
    "test = pd.read_excel('Test_set.xlsx')"
   ]
  },
  {
   "cell_type": "code",
   "execution_count": 34,
   "metadata": {},
   "outputs": [
    {
     "data": {
      "text/html": [
       "<div>\n",
       "<style scoped>\n",
       "    .dataframe tbody tr th:only-of-type {\n",
       "        vertical-align: middle;\n",
       "    }\n",
       "\n",
       "    .dataframe tbody tr th {\n",
       "        vertical-align: top;\n",
       "    }\n",
       "\n",
       "    .dataframe thead th {\n",
       "        text-align: right;\n",
       "    }\n",
       "</style>\n",
       "<table border=\"1\" class=\"dataframe\">\n",
       "  <thead>\n",
       "    <tr style=\"text-align: right;\">\n",
       "      <th></th>\n",
       "      <th>Airline</th>\n",
       "      <th>Date_of_Journey</th>\n",
       "      <th>Source</th>\n",
       "      <th>Destination</th>\n",
       "      <th>Route</th>\n",
       "      <th>Dep_Time</th>\n",
       "      <th>Arrival_Time</th>\n",
       "      <th>Duration</th>\n",
       "      <th>Total_Stops</th>\n",
       "      <th>Additional_Info</th>\n",
       "    </tr>\n",
       "  </thead>\n",
       "  <tbody>\n",
       "    <tr>\n",
       "      <th>1132</th>\n",
       "      <td>Jet Airways</td>\n",
       "      <td>9/05/2019</td>\n",
       "      <td>Delhi</td>\n",
       "      <td>Cochin</td>\n",
       "      <td>DEL → COK</td>\n",
       "      <td>11:00</td>\n",
       "      <td>14:15</td>\n",
       "      <td>3h 15m</td>\n",
       "      <td>non-stop</td>\n",
       "      <td>In-flight meal not included</td>\n",
       "    </tr>\n",
       "    <tr>\n",
       "      <th>2180</th>\n",
       "      <td>Jet Airways</td>\n",
       "      <td>12/04/2019</td>\n",
       "      <td>Banglore</td>\n",
       "      <td>Delhi</td>\n",
       "      <td>BLR → DEL</td>\n",
       "      <td>15:15</td>\n",
       "      <td>18:10</td>\n",
       "      <td>2h 55m</td>\n",
       "      <td>non-stop</td>\n",
       "      <td>In-flight meal not included</td>\n",
       "    </tr>\n",
       "    <tr>\n",
       "      <th>2126</th>\n",
       "      <td>Jet Airways</td>\n",
       "      <td>12/06/2019</td>\n",
       "      <td>Delhi</td>\n",
       "      <td>Cochin</td>\n",
       "      <td>DEL → IDR → BOM → COK</td>\n",
       "      <td>21:25</td>\n",
       "      <td>12:35 13 Jun</td>\n",
       "      <td>15h 10m</td>\n",
       "      <td>2 stops</td>\n",
       "      <td>No info</td>\n",
       "    </tr>\n",
       "    <tr>\n",
       "      <th>347</th>\n",
       "      <td>IndiGo</td>\n",
       "      <td>1/04/2019</td>\n",
       "      <td>Kolkata</td>\n",
       "      <td>Banglore</td>\n",
       "      <td>CCU → HYD → BLR</td>\n",
       "      <td>15:15</td>\n",
       "      <td>20:05</td>\n",
       "      <td>4h 50m</td>\n",
       "      <td>1 stop</td>\n",
       "      <td>No info</td>\n",
       "    </tr>\n",
       "    <tr>\n",
       "      <th>870</th>\n",
       "      <td>Air Asia</td>\n",
       "      <td>6/05/2019</td>\n",
       "      <td>Kolkata</td>\n",
       "      <td>Banglore</td>\n",
       "      <td>CCU → IXR → DEL → BLR</td>\n",
       "      <td>15:10</td>\n",
       "      <td>23:30</td>\n",
       "      <td>8h 20m</td>\n",
       "      <td>2 stops</td>\n",
       "      <td>No info</td>\n",
       "    </tr>\n",
       "    <tr>\n",
       "      <th>20</th>\n",
       "      <td>IndiGo</td>\n",
       "      <td>6/03/2019</td>\n",
       "      <td>Delhi</td>\n",
       "      <td>Cochin</td>\n",
       "      <td>DEL → BOM → COK</td>\n",
       "      <td>10:45</td>\n",
       "      <td>01:35 07 Mar</td>\n",
       "      <td>14h 50m</td>\n",
       "      <td>1 stop</td>\n",
       "      <td>No info</td>\n",
       "    </tr>\n",
       "    <tr>\n",
       "      <th>273</th>\n",
       "      <td>Air Asia</td>\n",
       "      <td>15/05/2019</td>\n",
       "      <td>Delhi</td>\n",
       "      <td>Cochin</td>\n",
       "      <td>DEL → BLR → COK</td>\n",
       "      <td>07:55</td>\n",
       "      <td>22:25</td>\n",
       "      <td>14h 30m</td>\n",
       "      <td>1 stop</td>\n",
       "      <td>No info</td>\n",
       "    </tr>\n",
       "    <tr>\n",
       "      <th>854</th>\n",
       "      <td>SpiceJet</td>\n",
       "      <td>1/04/2019</td>\n",
       "      <td>Kolkata</td>\n",
       "      <td>Banglore</td>\n",
       "      <td>CCU → IXB → BLR</td>\n",
       "      <td>11:15</td>\n",
       "      <td>18:30</td>\n",
       "      <td>7h 15m</td>\n",
       "      <td>1 stop</td>\n",
       "      <td>No info</td>\n",
       "    </tr>\n",
       "    <tr>\n",
       "      <th>2359</th>\n",
       "      <td>Air India</td>\n",
       "      <td>01/03/2019</td>\n",
       "      <td>Banglore</td>\n",
       "      <td>New Delhi</td>\n",
       "      <td>BLR → BOM → BHO → DEL</td>\n",
       "      <td>06:45</td>\n",
       "      <td>23:25 02 Mar</td>\n",
       "      <td>40h 40m</td>\n",
       "      <td>2 stops</td>\n",
       "      <td>No info</td>\n",
       "    </tr>\n",
       "    <tr>\n",
       "      <th>1407</th>\n",
       "      <td>IndiGo</td>\n",
       "      <td>18/05/2019</td>\n",
       "      <td>Mumbai</td>\n",
       "      <td>Hyderabad</td>\n",
       "      <td>BOM → HYD</td>\n",
       "      <td>02:35</td>\n",
       "      <td>04:05</td>\n",
       "      <td>1h 30m</td>\n",
       "      <td>non-stop</td>\n",
       "      <td>No info</td>\n",
       "    </tr>\n",
       "  </tbody>\n",
       "</table>\n",
       "</div>"
      ],
      "text/plain": [
       "          Airline Date_of_Journey    Source Destination  \\\n",
       "1132  Jet Airways       9/05/2019     Delhi      Cochin   \n",
       "2180  Jet Airways      12/04/2019  Banglore       Delhi   \n",
       "2126  Jet Airways      12/06/2019     Delhi      Cochin   \n",
       "347        IndiGo       1/04/2019   Kolkata    Banglore   \n",
       "870      Air Asia       6/05/2019   Kolkata    Banglore   \n",
       "20         IndiGo       6/03/2019     Delhi      Cochin   \n",
       "273      Air Asia      15/05/2019     Delhi      Cochin   \n",
       "854      SpiceJet       1/04/2019   Kolkata    Banglore   \n",
       "2359    Air India      01/03/2019  Banglore   New Delhi   \n",
       "1407       IndiGo      18/05/2019    Mumbai   Hyderabad   \n",
       "\n",
       "                      Route Dep_Time  Arrival_Time Duration Total_Stops  \\\n",
       "1132              DEL → COK    11:00         14:15   3h 15m    non-stop   \n",
       "2180              BLR → DEL    15:15         18:10   2h 55m    non-stop   \n",
       "2126  DEL → IDR → BOM → COK    21:25  12:35 13 Jun  15h 10m     2 stops   \n",
       "347         CCU → HYD → BLR    15:15         20:05   4h 50m      1 stop   \n",
       "870   CCU → IXR → DEL → BLR    15:10         23:30   8h 20m     2 stops   \n",
       "20          DEL → BOM → COK    10:45  01:35 07 Mar  14h 50m      1 stop   \n",
       "273         DEL → BLR → COK    07:55         22:25  14h 30m      1 stop   \n",
       "854         CCU → IXB → BLR    11:15         18:30   7h 15m      1 stop   \n",
       "2359  BLR → BOM → BHO → DEL    06:45  23:25 02 Mar  40h 40m     2 stops   \n",
       "1407              BOM → HYD    02:35         04:05   1h 30m    non-stop   \n",
       "\n",
       "                  Additional_Info  \n",
       "1132  In-flight meal not included  \n",
       "2180  In-flight meal not included  \n",
       "2126                      No info  \n",
       "347                       No info  \n",
       "870                       No info  \n",
       "20                        No info  \n",
       "273                       No info  \n",
       "854                       No info  \n",
       "2359                      No info  \n",
       "1407                      No info  "
      ]
     },
     "execution_count": 34,
     "metadata": {},
     "output_type": "execute_result"
    }
   ],
   "source": [
    "test.sample(10)"
   ]
  },
  {
   "cell_type": "code",
   "execution_count": 35,
   "metadata": {},
   "outputs": [],
   "source": [
    "df = test\n",
    "# Building consistency in the cities comprised in Source and Destination\n",
    "df['Destination'] = df['Destination'].str.replace('New ','')\n",
    "df['Destination'] = df['Destination'].str.replace(' ','')\n",
    "df['Destination'] = df['Destination'].str.replace('Delhi','New Delhi')\n",
    "df['Source'] = df['Source'].str.replace('Delhi','New Delhi')"
   ]
  },
  {
   "cell_type": "code",
   "execution_count": 36,
   "metadata": {},
   "outputs": [],
   "source": [
    "# Encoding the cities\n",
    "df['Source'] = df['Source'].replace({'Banglore': 0, 'Kolkata': 1, 'New Delhi': 2, 'Chennai': 3, 'Mumbai': 4})\n",
    "df['Destination'] = df['Destination'].replace({'Banglore': 0, 'Kolkata': 1, 'New Delhi': 2, 'Cochin': 5, 'Hyderabad': 6})"
   ]
  },
  {
   "cell_type": "code",
   "execution_count": 37,
   "metadata": {},
   "outputs": [],
   "source": [
    "df['Date_of_Journey'] = df['Date_of_Journey'].astype('datetime64')\n",
    "df['Dep_Time'] = df['Dep_Time'].astype('datetime64[ns]')\n",
    "df['Arrival_Time'] = df['Arrival_Time'].astype('datetime64[ns]')"
   ]
  },
  {
   "cell_type": "code",
   "execution_count": 38,
   "metadata": {},
   "outputs": [],
   "source": [
    "# Extracting the time of departure of the flights\n",
    "df['Dep_Time'] =  df['Dep_Time'].apply(lambda x: x.time())\n",
    "# Extracting Arrival Time and Date\n",
    "df['Date_of_Arrival'] = df['Arrival_Time'].apply(lambda x: x.date())\n",
    "df['Arrival_Time'] = df['Arrival_Time'].apply(lambda x: x.time())"
   ]
  },
  {
   "cell_type": "code",
   "execution_count": 39,
   "metadata": {},
   "outputs": [],
   "source": [
    "df['Duration'] = df['Duration'].apply(extract_time)"
   ]
  },
  {
   "cell_type": "code",
   "execution_count": 40,
   "metadata": {},
   "outputs": [],
   "source": [
    "# Encoding the layovers\n",
    "df['Total_Stops'] = df['Total_Stops'].replace({'non-stop': 0, '1 stop': 1, '2 stops': 2, '3 stops': 3, '4 stops': 4})"
   ]
  },
  {
   "cell_type": "code",
   "execution_count": 41,
   "metadata": {},
   "outputs": [],
   "source": [
    "# Encoding the Departure Time\n",
    "df['Dep_Time'] = df['Dep_Time'].apply(time_category)\n",
    "# Encoding the Arrival Time\n",
    "df['Arrival_Time'] = df['Arrival_Time'].apply(time_category)"
   ]
  },
  {
   "cell_type": "code",
   "execution_count": 42,
   "metadata": {},
   "outputs": [],
   "source": [
    "df['Additional_Info'].replace({'No Info': 'No info'}, inplace = True)\n",
    "df['Dep_Date_Month'] = df['Date_of_Journey'].apply(lambda x: x.month)\n",
    "df['Arr_Date_Month'] = df['Date_of_Arrival'].apply(lambda x: x.month)\n",
    "df['Dep_Date_Day'] = df['Date_of_Journey'].apply(lambda x: x.day)\n",
    "df['Arr_Date_Day'] = df['Date_of_Arrival'].apply(lambda x: x.day)\n",
    "df['Date_of_Journey_Weekday'] = df['Date_of_Journey'].apply(lambda x: x.weekday())\n",
    "df['Date_of_Arrival_Weekday'] = df['Date_of_Arrival'].apply(lambda x: x.weekday())"
   ]
  },
  {
   "cell_type": "code",
   "execution_count": 43,
   "metadata": {},
   "outputs": [],
   "source": [
    "# Creating a column for the Class of travel\n",
    "r = df.Airline.str.split(' ',expand=True).get(2)\n",
    "d = {None:'Economy','Premium': 'Premium Economy','economy':'Premium Economy','Business':'Business' }\n",
    "r = r.map(d)\n",
    "df['Class']=r\n",
    "df.Class=df.Class.astype('category')"
   ]
  },
  {
   "cell_type": "code",
   "execution_count": 44,
   "metadata": {},
   "outputs": [],
   "source": [
    "df['Booking_Date'] = df['Date_of_Journey'].apply(extract_duration_before_journey)"
   ]
  },
  {
   "cell_type": "code",
   "execution_count": 45,
   "metadata": {},
   "outputs": [],
   "source": [
    "df['Class'] = codex.fit_transform(df['Class'])\n",
    "df['Airline'] = codex.fit_transform(df['Airline'])\n",
    "df['Additional_Info'] = codex.fit_transform(df['Additional_Info'])\n",
    "df['Dep_Time'] = codex.fit_transform(df['Dep_Time'])\n",
    "df['Arrival_Time'] = codex.fit_transform(df['Arrival_Time'])\n",
    "df['Route'] = codex.fit_transform(df['Route'])"
   ]
  },
  {
   "cell_type": "code",
   "execution_count": 46,
   "metadata": {},
   "outputs": [],
   "source": [
    "df = df.drop(['Date_of_Journey', 'Date_of_Arrival'], axis = 1) # After their sub division, the columns are rendered obsolete\n",
    "x = df.columns.tolist()\n",
    "test_data = df[x]\n",
    "test_data = np.asarray(test_data)"
   ]
  },
  {
   "cell_type": "code",
   "execution_count": 47,
   "metadata": {},
   "outputs": [],
   "source": [
    "price_pred = xgb.predict(test_data)"
   ]
  },
  {
   "cell_type": "code",
   "execution_count": 54,
   "metadata": {},
   "outputs": [],
   "source": [
    "# Taking reverse log to get actual price\n",
    "#price = np.exp(price_pred)\n",
    "price = (np.around(price)).astype(int)"
   ]
  },
  {
   "cell_type": "code",
   "execution_count": 55,
   "metadata": {},
   "outputs": [
    {
     "name": "stdout",
     "output_type": "stream",
     "text": [
      "[ 9968  5374 14344 ... 14196 10946  7204]\n"
     ]
    }
   ],
   "source": [
    "print(price)"
   ]
  },
  {
   "cell_type": "code",
   "execution_count": 56,
   "metadata": {},
   "outputs": [],
   "source": [
    "# Saving the price to an excel file\n",
    "df = pd.DataFrame({'Price':price})\n",
    "df.to_excel('submission.xlsx', index = False)"
   ]
  }
 ],
 "metadata": {
  "kernelspec": {
   "display_name": "Python 3",
   "language": "python",
   "name": "python3"
  },
  "language_info": {
   "codemirror_mode": {
    "name": "ipython",
    "version": 3
   },
   "file_extension": ".py",
   "mimetype": "text/x-python",
   "name": "python",
   "nbconvert_exporter": "python",
   "pygments_lexer": "ipython3",
   "version": "3.7.3"
  }
 },
 "nbformat": 4,
 "nbformat_minor": 2
}
